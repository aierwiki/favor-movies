{
 "cells": [
  {
   "cell_type": "markdown",
   "metadata": {},
   "source": [
    "# 该笔记介绍如何使用CNN构建推荐模型"
   ]
  },
  {
   "cell_type": "markdown",
   "metadata": {},
   "source": [
    "## 1. 准备数据"
   ]
  },
  {
   "cell_type": "markdown",
   "metadata": {},
   "source": [
    "#### 1.1 下载数据"
   ]
  },
  {
   "cell_type": "code",
   "execution_count": 1,
   "metadata": {},
   "outputs": [
    {
     "name": "stdout",
     "output_type": "stream",
     "text": [
      "--2019-11-30 12:29:27--  http://files.grouplens.org/datasets/movielens/ml-1m.zip\n",
      "Resolving files.grouplens.org (files.grouplens.org)... 128.101.65.152\n",
      "Connecting to files.grouplens.org (files.grouplens.org)|128.101.65.152|:80... connected.\n",
      "HTTP request sent, awaiting response... 200 OK\n",
      "Length: 5917549 (5.6M) [application/zip]\n",
      "Saving to: ‘ml-1m.zip’\n",
      "\n",
      "ml-1m.zip           100%[===================>]   5.64M  1.99MB/s    in 2.8s    \n",
      "\n",
      "2019-11-30 12:29:30 (1.99 MB/s) - ‘ml-1m.zip’ saved [5917549/5917549]\n",
      "\n"
     ]
    }
   ],
   "source": [
    "!wget http://files.grouplens.org/datasets/movielens/ml-1m.zip"
   ]
  },
  {
   "cell_type": "code",
   "execution_count": 2,
   "metadata": {},
   "outputs": [
    {
     "name": "stdout",
     "output_type": "stream",
     "text": [
      "Archive:  ml-1m.zip\n",
      "   creating: ml-1m/\n",
      "  inflating: ml-1m/movies.dat        \n",
      "  inflating: ml-1m/ratings.dat       \n",
      "  inflating: ml-1m/README            \n",
      "  inflating: ml-1m/users.dat         \n"
     ]
    }
   ],
   "source": [
    "!unzip ml-1m.zip"
   ]
  },
  {
   "cell_type": "markdown",
   "metadata": {},
   "source": [
    "#### 1.2 使用pandas加载数据并作简单分析"
   ]
  },
  {
   "cell_type": "markdown",
   "metadata": {},
   "source": [
    "movielens数据集有很多，数据内容及格式大家可以参考README.txt或者自行搜索了解。此处使用ml-1m数据集，主要用到其中的用户信息，电影信息和用户对电影评分的信息"
   ]
  },
  {
   "cell_type": "code",
   "execution_count": 167,
   "metadata": {},
   "outputs": [],
   "source": [
    "#!cat ml-1m/README"
   ]
  },
  {
   "cell_type": "code",
   "execution_count": 1,
   "metadata": {},
   "outputs": [],
   "source": [
    "import numpy as np\n",
    "import pandas as pd"
   ]
  },
  {
   "cell_type": "code",
   "execution_count": 2,
   "metadata": {},
   "outputs": [
    {
     "name": "stdout",
     "output_type": "stream",
     "text": [
      "3951::Two Family House (2000)::Drama\r\n",
      "3952::Contender, The (2000)::Drama|Thriller\r\n"
     ]
    }
   ],
   "source": [
    "!tail -2 ml-1m/movies.dat"
   ]
  },
  {
   "cell_type": "code",
   "execution_count": 3,
   "metadata": {},
   "outputs": [
    {
     "name": "stdout",
     "output_type": "stream",
     "text": [
      "6040::1096::4::956715648\r\n",
      "6040::1097::4::956715569\r\n"
     ]
    }
   ],
   "source": [
    "!tail -2 ml-1m/ratings.dat"
   ]
  },
  {
   "cell_type": "code",
   "execution_count": 4,
   "metadata": {},
   "outputs": [
    {
     "name": "stdout",
     "output_type": "stream",
     "text": [
      "6039::F::45::0::01060\r\n",
      "6040::M::25::6::11106\r\n"
     ]
    }
   ],
   "source": [
    "!tail -2 ml-1m/users.dat"
   ]
  },
  {
   "cell_type": "markdown",
   "metadata": {},
   "source": [
    "#### 1.2.1 先用pandas加载电影信息"
   ]
  },
  {
   "cell_type": "code",
   "execution_count": 5,
   "metadata": {},
   "outputs": [],
   "source": [
    "df_movies = pd.read_csv('ml-1m/movies.dat', header=None, sep='::', engine= 'python')\n",
    "df_movies.columns = ['movieId','title','genres']"
   ]
  },
  {
   "cell_type": "code",
   "execution_count": 6,
   "metadata": {},
   "outputs": [
    {
     "name": "stdout",
     "output_type": "stream",
     "text": [
      "<class 'pandas.core.frame.DataFrame'>\n",
      "RangeIndex: 3883 entries, 0 to 3882\n",
      "Data columns (total 3 columns):\n",
      "movieId    3883 non-null int64\n",
      "title      3883 non-null object\n",
      "genres     3883 non-null object\n",
      "dtypes: int64(1), object(2)\n",
      "memory usage: 91.1+ KB\n"
     ]
    }
   ],
   "source": [
    "df_movies.info()"
   ]
  },
  {
   "cell_type": "markdown",
   "metadata": {},
   "source": [
    "- 一共有3883条电影数据"
   ]
  },
  {
   "cell_type": "code",
   "execution_count": 7,
   "metadata": {},
   "outputs": [
    {
     "data": {
      "text/html": [
       "<div>\n",
       "<style scoped>\n",
       "    .dataframe tbody tr th:only-of-type {\n",
       "        vertical-align: middle;\n",
       "    }\n",
       "\n",
       "    .dataframe tbody tr th {\n",
       "        vertical-align: top;\n",
       "    }\n",
       "\n",
       "    .dataframe thead th {\n",
       "        text-align: right;\n",
       "    }\n",
       "</style>\n",
       "<table border=\"1\" class=\"dataframe\">\n",
       "  <thead>\n",
       "    <tr style=\"text-align: right;\">\n",
       "      <th></th>\n",
       "      <th>movieId</th>\n",
       "      <th>title</th>\n",
       "      <th>genres</th>\n",
       "    </tr>\n",
       "  </thead>\n",
       "  <tbody>\n",
       "    <tr>\n",
       "      <th>0</th>\n",
       "      <td>1</td>\n",
       "      <td>Toy Story (1995)</td>\n",
       "      <td>Animation|Children's|Comedy</td>\n",
       "    </tr>\n",
       "    <tr>\n",
       "      <th>1</th>\n",
       "      <td>2</td>\n",
       "      <td>Jumanji (1995)</td>\n",
       "      <td>Adventure|Children's|Fantasy</td>\n",
       "    </tr>\n",
       "    <tr>\n",
       "      <th>2</th>\n",
       "      <td>3</td>\n",
       "      <td>Grumpier Old Men (1995)</td>\n",
       "      <td>Comedy|Romance</td>\n",
       "    </tr>\n",
       "    <tr>\n",
       "      <th>3</th>\n",
       "      <td>4</td>\n",
       "      <td>Waiting to Exhale (1995)</td>\n",
       "      <td>Comedy|Drama</td>\n",
       "    </tr>\n",
       "    <tr>\n",
       "      <th>4</th>\n",
       "      <td>5</td>\n",
       "      <td>Father of the Bride Part II (1995)</td>\n",
       "      <td>Comedy</td>\n",
       "    </tr>\n",
       "  </tbody>\n",
       "</table>\n",
       "</div>"
      ],
      "text/plain": [
       "   movieId                               title                        genres\n",
       "0        1                    Toy Story (1995)   Animation|Children's|Comedy\n",
       "1        2                      Jumanji (1995)  Adventure|Children's|Fantasy\n",
       "2        3             Grumpier Old Men (1995)                Comedy|Romance\n",
       "3        4            Waiting to Exhale (1995)                  Comedy|Drama\n",
       "4        5  Father of the Bride Part II (1995)                        Comedy"
      ]
     },
     "execution_count": 7,
     "metadata": {},
     "output_type": "execute_result"
    }
   ],
   "source": [
    "df_movies.head()"
   ]
  },
  {
   "cell_type": "markdown",
   "metadata": {},
   "source": [
    "- 可利用的电影信息主要有电影名称和电影类别，一个电影有多个类别标签，用`|`分割"
   ]
  },
  {
   "cell_type": "markdown",
   "metadata": {},
   "source": [
    "#### 1.2.2 加载打分信息"
   ]
  },
  {
   "cell_type": "code",
   "execution_count": 8,
   "metadata": {},
   "outputs": [],
   "source": [
    "df_ratings = pd.read_csv('ml-1m/ratings.dat', sep = '::', header = None, engine = 'python')\n",
    "df_ratings.columns = ['userId','movieId','tag','timestamp']"
   ]
  },
  {
   "cell_type": "code",
   "execution_count": 9,
   "metadata": {},
   "outputs": [
    {
     "name": "stdout",
     "output_type": "stream",
     "text": [
      "<class 'pandas.core.frame.DataFrame'>\n",
      "RangeIndex: 1000209 entries, 0 to 1000208\n",
      "Data columns (total 4 columns):\n",
      "userId       1000209 non-null int64\n",
      "movieId      1000209 non-null int64\n",
      "tag          1000209 non-null int64\n",
      "timestamp    1000209 non-null int64\n",
      "dtypes: int64(4)\n",
      "memory usage: 30.5 MB\n"
     ]
    }
   ],
   "source": [
    "df_ratings.info()"
   ]
  },
  {
   "cell_type": "markdown",
   "metadata": {},
   "source": [
    "- 评分数据有100W+"
   ]
  },
  {
   "cell_type": "code",
   "execution_count": 10,
   "metadata": {},
   "outputs": [
    {
     "data": {
      "text/html": [
       "<div>\n",
       "<style scoped>\n",
       "    .dataframe tbody tr th:only-of-type {\n",
       "        vertical-align: middle;\n",
       "    }\n",
       "\n",
       "    .dataframe tbody tr th {\n",
       "        vertical-align: top;\n",
       "    }\n",
       "\n",
       "    .dataframe thead th {\n",
       "        text-align: right;\n",
       "    }\n",
       "</style>\n",
       "<table border=\"1\" class=\"dataframe\">\n",
       "  <thead>\n",
       "    <tr style=\"text-align: right;\">\n",
       "      <th></th>\n",
       "      <th>userId</th>\n",
       "      <th>movieId</th>\n",
       "      <th>tag</th>\n",
       "      <th>timestamp</th>\n",
       "    </tr>\n",
       "  </thead>\n",
       "  <tbody>\n",
       "    <tr>\n",
       "      <th>0</th>\n",
       "      <td>1</td>\n",
       "      <td>1193</td>\n",
       "      <td>5</td>\n",
       "      <td>978300760</td>\n",
       "    </tr>\n",
       "    <tr>\n",
       "      <th>1</th>\n",
       "      <td>1</td>\n",
       "      <td>661</td>\n",
       "      <td>3</td>\n",
       "      <td>978302109</td>\n",
       "    </tr>\n",
       "    <tr>\n",
       "      <th>2</th>\n",
       "      <td>1</td>\n",
       "      <td>914</td>\n",
       "      <td>3</td>\n",
       "      <td>978301968</td>\n",
       "    </tr>\n",
       "    <tr>\n",
       "      <th>3</th>\n",
       "      <td>1</td>\n",
       "      <td>3408</td>\n",
       "      <td>4</td>\n",
       "      <td>978300275</td>\n",
       "    </tr>\n",
       "    <tr>\n",
       "      <th>4</th>\n",
       "      <td>1</td>\n",
       "      <td>2355</td>\n",
       "      <td>5</td>\n",
       "      <td>978824291</td>\n",
       "    </tr>\n",
       "  </tbody>\n",
       "</table>\n",
       "</div>"
      ],
      "text/plain": [
       "   userId  movieId  tag  timestamp\n",
       "0       1     1193    5  978300760\n",
       "1       1      661    3  978302109\n",
       "2       1      914    3  978301968\n",
       "3       1     3408    4  978300275\n",
       "4       1     2355    5  978824291"
      ]
     },
     "execution_count": 10,
     "metadata": {},
     "output_type": "execute_result"
    }
   ],
   "source": [
    "df_ratings.head()"
   ]
  },
  {
   "cell_type": "code",
   "execution_count": 11,
   "metadata": {},
   "outputs": [],
   "source": [
    "df_users = pd.read_csv('ml-1m/users.dat', sep = '::', header = None, engine = 'python')\n",
    "df_users.columns = ['userId', 'gender', 'age', 'occupation', 'zip-code']"
   ]
  },
  {
   "cell_type": "code",
   "execution_count": 12,
   "metadata": {},
   "outputs": [
    {
     "name": "stdout",
     "output_type": "stream",
     "text": [
      "<class 'pandas.core.frame.DataFrame'>\n",
      "RangeIndex: 6040 entries, 0 to 6039\n",
      "Data columns (total 5 columns):\n",
      "userId        6040 non-null int64\n",
      "gender        6040 non-null object\n",
      "age           6040 non-null int64\n",
      "occupation    6040 non-null int64\n",
      "zip-code      6040 non-null object\n",
      "dtypes: int64(3), object(2)\n",
      "memory usage: 236.1+ KB\n"
     ]
    }
   ],
   "source": [
    "df_users.info()"
   ]
  },
  {
   "cell_type": "code",
   "execution_count": 13,
   "metadata": {},
   "outputs": [
    {
     "data": {
      "text/html": [
       "<div>\n",
       "<style scoped>\n",
       "    .dataframe tbody tr th:only-of-type {\n",
       "        vertical-align: middle;\n",
       "    }\n",
       "\n",
       "    .dataframe tbody tr th {\n",
       "        vertical-align: top;\n",
       "    }\n",
       "\n",
       "    .dataframe thead th {\n",
       "        text-align: right;\n",
       "    }\n",
       "</style>\n",
       "<table border=\"1\" class=\"dataframe\">\n",
       "  <thead>\n",
       "    <tr style=\"text-align: right;\">\n",
       "      <th></th>\n",
       "      <th>userId</th>\n",
       "      <th>gender</th>\n",
       "      <th>age</th>\n",
       "      <th>occupation</th>\n",
       "      <th>zip-code</th>\n",
       "    </tr>\n",
       "  </thead>\n",
       "  <tbody>\n",
       "    <tr>\n",
       "      <th>0</th>\n",
       "      <td>1</td>\n",
       "      <td>F</td>\n",
       "      <td>1</td>\n",
       "      <td>10</td>\n",
       "      <td>48067</td>\n",
       "    </tr>\n",
       "    <tr>\n",
       "      <th>1</th>\n",
       "      <td>2</td>\n",
       "      <td>M</td>\n",
       "      <td>56</td>\n",
       "      <td>16</td>\n",
       "      <td>70072</td>\n",
       "    </tr>\n",
       "    <tr>\n",
       "      <th>2</th>\n",
       "      <td>3</td>\n",
       "      <td>M</td>\n",
       "      <td>25</td>\n",
       "      <td>15</td>\n",
       "      <td>55117</td>\n",
       "    </tr>\n",
       "    <tr>\n",
       "      <th>3</th>\n",
       "      <td>4</td>\n",
       "      <td>M</td>\n",
       "      <td>45</td>\n",
       "      <td>7</td>\n",
       "      <td>02460</td>\n",
       "    </tr>\n",
       "    <tr>\n",
       "      <th>4</th>\n",
       "      <td>5</td>\n",
       "      <td>M</td>\n",
       "      <td>25</td>\n",
       "      <td>20</td>\n",
       "      <td>55455</td>\n",
       "    </tr>\n",
       "  </tbody>\n",
       "</table>\n",
       "</div>"
      ],
      "text/plain": [
       "   userId gender  age  occupation zip-code\n",
       "0       1      F    1          10    48067\n",
       "1       2      M   56          16    70072\n",
       "2       3      M   25          15    55117\n",
       "3       4      M   45           7    02460\n",
       "4       5      M   25          20    55455"
      ]
     },
     "execution_count": 13,
     "metadata": {},
     "output_type": "execute_result"
    }
   ],
   "source": [
    "df_users.head()"
   ]
  },
  {
   "cell_type": "markdown",
   "metadata": {},
   "source": [
    "#### 1.2.3 简单查看一下统计信息"
   ]
  },
  {
   "cell_type": "code",
   "execution_count": 14,
   "metadata": {},
   "outputs": [],
   "source": [
    "import matplotlib.pyplot as plt\n",
    "%matplotlib inline"
   ]
  },
  {
   "cell_type": "code",
   "execution_count": 15,
   "metadata": {},
   "outputs": [
    {
     "data": {
      "text/plain": [
       "<matplotlib.axes._subplots.AxesSubplot at 0x7fe817d89240>"
      ]
     },
     "execution_count": 15,
     "metadata": {},
     "output_type": "execute_result"
    },
    {
     "data": {
      "image/png": "[encoded data removed]",
      "text/plain": [
       "<Figure size 432x288 with 1 Axes>"
      ]
     },
     "metadata": {
      "needs_background": "light"
     },
     "output_type": "display_data"
    }
   ],
   "source": [
    "df_ratings['movieId'].value_counts().clip(0, 500).plot.hist()"
   ]
  },
  {
   "cell_type": "markdown",
   "metadata": {},
   "source": [
    "- 存在一些电影，其被评价的个数非常少，这种极度稀疏的数据可以去掉"
   ]
  },
  {
   "cell_type": "code",
   "execution_count": 16,
   "metadata": {},
   "outputs": [
    {
     "data": {
      "text/plain": [
       "<matplotlib.axes._subplots.AxesSubplot at 0x7fe817da2da0>"
      ]
     },
     "execution_count": 16,
     "metadata": {},
     "output_type": "execute_result"
    },
    {
     "data": {
      "image/png": "[encoded data removed]",
      "text/plain": [
       "<Figure size 432x288 with 1 Axes>"
      ]
     },
     "metadata": {
      "needs_background": "light"
     },
     "output_type": "display_data"
    }
   ],
   "source": [
    "df_ratings['userId'].value_counts().clip(0, 2000).plot.hist()"
   ]
  },
  {
   "cell_type": "code",
   "execution_count": 17,
   "metadata": {},
   "outputs": [
    {
     "data": {
      "text/plain": [
       "761     20\n",
       "1493    20\n",
       "5533    20\n",
       "2714    20\n",
       "2696    20\n",
       "Name: userId, dtype: int64"
      ]
     },
     "execution_count": 17,
     "metadata": {},
     "output_type": "execute_result"
    }
   ],
   "source": [
    "df_ratings['userId'].value_counts().tail()"
   ]
  },
  {
   "cell_type": "markdown",
   "metadata": {},
   "source": [
    "- 从用户维度来看，评价最少的用户评价数量为20，数据还算可以"
   ]
  },
  {
   "cell_type": "code",
   "execution_count": 18,
   "metadata": {},
   "outputs": [
    {
     "data": {
      "text/plain": [
       "<matplotlib.axes._subplots.AxesSubplot at 0x7fe81a2ec2e8>"
      ]
     },
     "execution_count": 18,
     "metadata": {},
     "output_type": "execute_result"
    },
    {
     "data": {
      "image/png": "[encoded data removed]",
      "text/plain": [
       "<Figure size 432x288 with 1 Axes>"
      ]
     },
     "metadata": {
      "needs_background": "light"
     },
     "output_type": "display_data"
    }
   ],
   "source": [
    "df_users['gender'].value_counts().plot.bar()"
   ]
  },
  {
   "cell_type": "markdown",
   "metadata": {},
   "source": [
    "- 男性用户与女性用户的比例为 2：1"
   ]
  },
  {
   "cell_type": "markdown",
   "metadata": {},
   "source": [
    "#### 1.3 对数据特征进行加工"
   ]
  },
  {
   "cell_type": "markdown",
   "metadata": {},
   "source": [
    "考虑到电影信息中的`title`和`genres`字段值为字符串，其表示的信息为复合信息，需要进行拆解"
   ]
  },
  {
   "cell_type": "code",
   "execution_count": 96,
   "metadata": {},
   "outputs": [],
   "source": [
    "def prepare_data(df_users, df_movies, df_ratings):\n",
    "    import re\n",
    "    df_users = df_users.copy()\n",
    "    df_movies = df_movies.copy()\n",
    "    df_ratings = df_ratings.copy()\n",
    "    df_movies['year'] = df_movies['title'].map(lambda x : int(re.findall(r'\\((\\d+)\\)', x)[0]))\n",
    "    df_movies['title'] = df_movies['title'].map(lambda x : re.findall(r'(.*) \\(', x)[0])\n",
    "    df_movies['genres'] = df_movies['genres'].map(lambda x : x.split('|'))\n",
    "    genres_dict = {}\n",
    "    for i, genres in enumerate(list(set(df_movies['genres'].sum()))):\n",
    "        genres_dict[genres] = i + 1\n",
    "    df_movies['genres'] = df_movies['genres'].map(lambda x : [genres_dict[xx] for xx in x])\n",
    "    df_users['gender'] = df_users['gender'].map(lambda x : {'F':0, 'M':1}[x])\n",
    "    #df_users = pd.get_dummies(df_users, columns = ['gender'])\n",
    "    age_bins = [0, 20, 30, 40, 50, 200]\n",
    "    df_users['age'] = pd.cut(df_users['age'], age_bins, labels = list(range(5)))\n",
    "    #df_users = pd.get_dummies(df_users, columns = ['age'])\n",
    "    df_ratings_users = pd.merge(df_ratings, df_users, on = 'userId')\n",
    "    df_ratings_users_movies = pd.merge(df_ratings_users, df_movies, on = 'movieId')\n",
    "    # 用户数据\n",
    "    #users_cols = ['userId', 'gender', 'age']\n",
    "    X_users_id = df_ratings_users_movies[['userId']].values\n",
    "    X_users_gender = df_ratings_users_movies[['gender']].values\n",
    "    X_users_age = df_ratings_users_movies[['age']].values\n",
    "    # 电影数据(ID)\n",
    "    X_movies_id = df_ratings_users_movies[['movieId']].values\n",
    "    # 电影数据(类型)\n",
    "    from keras.preprocessing.sequence import pad_sequences\n",
    "    X_movies_genres = pad_sequences(np.array(df_ratings_users_movies['genres'].values.tolist()), padding = 'post')\n",
    "    # 电影数据（标题）\n",
    "    from keras.preprocessing.text import Tokenizer\n",
    "    tokenizer = Tokenizer()\n",
    "    tokenizer.fit_on_texts(df_ratings_users_movies['title'])\n",
    "    X_movies_title = tokenizer.texts_to_sequences(df_ratings_users_movies['title'])\n",
    "    X_movies_title = pad_sequences(X_movies_title, padding = 'post')\n",
    "    # 样本标签\n",
    "    y = df_ratings_users_movies[['tag']].values\n",
    "    users_id_size = df_users['userId'].max()\n",
    "    movies_id_size = df_movies['movieId'].max()\n",
    "    return X_users_id, X_users_gender, X_users_age, X_movies_id, X_movies_genres, X_movies_title, y, \\\n",
    "            users_id_size, movies_id_size, genres_dict, age_bins, tokenizer.word_index"
   ]
  },
  {
   "cell_type": "code",
   "execution_count": 97,
   "metadata": {},
   "outputs": [],
   "source": [
    "X_users_id, X_users_gender, X_users_age, X_movies_id, X_movies_genres, X_movies_title, y, \\\n",
    "users_id_size, movies_id_size, genres_dict, age_bins, title_word_index = prepare_data(df_users, df_movies, df_ratings)"
   ]
  },
  {
   "cell_type": "markdown",
   "metadata": {},
   "source": [
    "## 2. 训练模型"
   ]
  },
  {
   "cell_type": "markdown",
   "metadata": {},
   "source": [
    "- 模型采用神经网络模型，用户特征和电影特征分别训练出两个向量，两个向量之间作内积去预测打分标签。\n",
    "- 除去电影中的title属性使用卷积运算，其它的特征均作Embedding"
   ]
  },
  {
   "cell_type": "markdown",
   "metadata": {},
   "source": [
    "#### 2.1 Baseline 模型"
   ]
  },
  {
   "cell_type": "code",
   "execution_count": 112,
   "metadata": {},
   "outputs": [],
   "source": [
    "def build_model(users_id_size, age_size, movies_id_size, genres_n, genres_len, title_n, title_len):\n",
    "    import keras\n",
    "    from keras.layers import Input, Dense, Embedding, Flatten, Reshape, Conv1D, MaxPooling1D, Lambda\n",
    "    from keras.models import Model\n",
    "    import keras.backend as K\n",
    "    \n",
    "    input_users_id = Input(shape = (1,), name = 'users_id')\n",
    "    input_users_gender = Input(shape = (1,), name = 'users_gender')\n",
    "    input_users_age = Input(shape = (1,), name = 'users_age')\n",
    "    \n",
    "    embedding_users_id = Embedding(users_id_size, 32)(input_users_id)\n",
    "    embedding_users_id = Flatten()(embedding_users_id)\n",
    "    embedding_users_gender = Embedding(2, 16)(input_users_gender)\n",
    "    embedding_users_gender = Flatten()(embedding_users_gender)\n",
    "    embedding_users_age = Embedding(age_size, 16)(input_users_age)\n",
    "    embedding_users_age = Flatten()(embedding_users_age)\n",
    "    \n",
    "    layer = keras.layers.concatenate([embedding_users_id, embedding_users_gender, embedding_users_age])\n",
    "    layer = Dense(128, activation = 'relu')(layer)\n",
    "    user_layer = Dense(200, activation = 'relu')(layer)\n",
    "    \n",
    "    input_movies_id = Input(shape = (1,), name = 'movies_id')\n",
    "    input_movies_genres = Input(shape = (genres_len,), name = 'movies_genres')\n",
    "    input_movies_title = Input(shape = (title_len,), name = 'movies_title')\n",
    "    \n",
    "    embedding_movies_id = Embedding(movies_id_size, 32)(input_movies_id)\n",
    "    embedding_movies_id = Flatten()(embedding_movies_id)\n",
    "    embedding_movies_genres = Embedding(genres_n, 32, input_length = genres_len)(input_movies_genres)\n",
    "    embedding_movies_genres = Lambda(lambda x : K.sum(x, axis = 1, keepdims = False), output_shape=(32,))(embedding_movies_genres)\n",
    "    layer = keras.layers.concatenate([embedding_movies_id, embedding_movies_genres])\n",
    "    movies_layer = Dense(64, activation = 'relu')(layer)\n",
    "    \n",
    "    embedding_movies_title = Embedding(title_n, 32, input_length = title_len)(input_movies_title)\n",
    "    window_sizes = {2, 3, 4, 5}\n",
    "    conv_list = []\n",
    "    for window in window_sizes:\n",
    "        movies_title_conv = Conv1D(filters = 16, kernel_size = window,\n",
    "                                 padding = 'valid', activation = 'relu',\n",
    "                                 strides = 1)(embedding_movies_title)\n",
    "        movies_title_conv = MaxPooling1D(pool_size = (title_len - window + 1))(movies_title_conv)\n",
    "        movies_title_conv = Flatten()(movies_title_conv)\n",
    "        conv_list.append(movies_title_conv)\n",
    "        \n",
    "    conv_layer = keras.layers.concatenate(conv_list)\n",
    "    movie_layer = keras.layers.concatenate([movies_layer, conv_layer])\n",
    "    movie_layer = Dense(200, activation = 'relu')(movie_layer)\n",
    "    \n",
    "    output_layer = keras.layers.dot([user_layer, movie_layer], axes = 1)\n",
    "    \n",
    "    model = Model(inputs = [input_users_id, input_users_gender, input_users_age, \\\n",
    "                            input_movies_id,input_movies_genres, input_movies_title], output = output_layer)\n",
    "    \n",
    "    model.compile(optimizer = 'adam', loss = 'mean_squared_error')\n",
    "    \n",
    "    return model"
   ]
  },
  {
   "cell_type": "code",
   "execution_count": 114,
   "metadata": {},
   "outputs": [
    {
     "name": "stderr",
     "output_type": "stream",
     "text": [
      "/usr/local/lib/python3.6/dist-packages/ipykernel_launcher.py:51: UserWarning: Update your `Model` call to the Keras 2 API: `Model(inputs=[<tf.Tenso..., outputs=Tensor(\"do...)`\n"
     ]
    }
   ],
   "source": [
    "model = build_model(users_id_size + 1, len(age_bins) - 1, movies_id_size + 1, \n",
    "                    len(genres_dict) + 1, X_movies_genres.shape[1], len(title_word_index) + 1, X_movies_title.shape[1])"
   ]
  },
  {
   "cell_type": "code",
   "execution_count": 100,
   "metadata": {},
   "outputs": [],
   "source": [
    "#model.summary()"
   ]
  },
  {
   "cell_type": "code",
   "execution_count": 165,
   "metadata": {},
   "outputs": [],
   "source": [
    "def train(model, X_users_id, X_users_gender, X_users_age, X_movies_id, X_movies_genres, X_movies_title, y):\n",
    "    hist = model.fit([X_users_id, X_users_gender, X_users_age, X_movies_id, X_movies_genres, X_movies_title], \n",
    "              y, epochs = 10, batch_size = 32, validation_split = 0.3, shuffle = True)\n",
    "    return hist"
   ]
  },
  {
   "cell_type": "code",
   "execution_count": 116,
   "metadata": {},
   "outputs": [
    {
     "name": "stderr",
     "output_type": "stream",
     "text": [
      "/usr/local/lib/python3.6/dist-packages/tensorflow_core/python/framework/indexed_slices.py:424: UserWarning: Converting sparse IndexedSlices to a dense Tensor of unknown shape. This may consume a large amount of memory.\n",
      "  \"Converting sparse IndexedSlices to a dense Tensor of unknown shape. \"\n"
     ]
    },
    {
     "name": "stdout",
     "output_type": "stream",
     "text": [
      "Train on 700146 samples, validate on 300063 samples\n",
      "Epoch 1/10\n",
      "700146/700146 [==============================] - 45s 65us/step - loss: 0.8906 - val_loss: 1.2053\n",
      "Epoch 2/10\n",
      "700146/700146 [==============================] - 45s 64us/step - loss: 0.7701 - val_loss: 1.1982\n",
      "Epoch 3/10\n",
      "700146/700146 [==============================] - 45s 64us/step - loss: 0.7302 - val_loss: 1.2391\n",
      "Epoch 4/10\n",
      "700146/700146 [==============================] - 44s 64us/step - loss: 0.7067 - val_loss: 1.1910\n",
      "Epoch 5/10\n",
      "700146/700146 [==============================] - 45s 64us/step - loss: 0.6891 - val_loss: 1.1888\n",
      "Epoch 6/10\n",
      "700146/700146 [==============================] - 44s 63us/step - loss: 0.6753 - val_loss: 1.1849\n",
      "Epoch 7/10\n",
      "700146/700146 [==============================] - 45s 64us/step - loss: 0.6634 - val_loss: 1.2095\n",
      "Epoch 8/10\n",
      "700146/700146 [==============================] - 45s 65us/step - loss: 0.6531 - val_loss: 1.1857\n",
      "Epoch 9/10\n",
      "700146/700146 [==============================] - 45s 64us/step - loss: 0.6447 - val_loss: 1.1885\n",
      "Epoch 10/10\n",
      "700146/700146 [==============================] - 45s 64us/step - loss: 0.6368 - val_loss: 1.2246\n"
     ]
    }
   ],
   "source": [
    "hist = train(model, X_users_id, X_users_gender, X_users_age, X_movies_id, X_movies_genres, X_movies_title, y)"
   ]
  },
  {
   "cell_type": "markdown",
   "metadata": {},
   "source": [
    "- 虽然训练集的误差随着轮次在不断减小，但是第二轮以后，测试集误差却不降反升，说明模型的泛化能力不强"
   ]
  },
  {
   "cell_type": "code",
   "execution_count": 152,
   "metadata": {},
   "outputs": [],
   "source": [
    "from keras.layers import Dense"
   ]
  },
  {
   "cell_type": "markdown",
   "metadata": {},
   "source": [
    "#### 2.2 优化版本（提高模型的泛化能力）"
   ]
  },
  {
   "cell_type": "code",
   "execution_count": 161,
   "metadata": {},
   "outputs": [],
   "source": [
    "def build_model(users_id_size, age_size, movies_id_size, genres_n, genres_len, title_n, title_len):\n",
    "    import keras\n",
    "    from keras.layers import Input, Dense, Embedding, Flatten, Reshape, Conv1D, MaxPooling1D, Lambda, Activation, Dropout\n",
    "    from keras.layers.normalization import BatchNormalization\n",
    "    from keras.optimizers import Adam\n",
    "    from keras.models import Model\n",
    "    from keras.regularizers import l2\n",
    "    import keras.backend as K\n",
    "    \n",
    "    input_users_id = Input(shape = (1,), name = 'users_id')\n",
    "    input_users_gender = Input(shape = (1,), name = 'users_gender')\n",
    "    input_users_age = Input(shape = (1,), name = 'users_age')\n",
    "    \n",
    "    embedding_users_id = Embedding(users_id_size, 32)(input_users_id)\n",
    "    embedding_users_id = Flatten()(embedding_users_id)\n",
    "    embedding_users_gender = Embedding(2, 16)(input_users_gender)\n",
    "    embedding_users_gender = Flatten()(embedding_users_gender)\n",
    "    embedding_users_age = Embedding(age_size, 16)(input_users_age)\n",
    "    embedding_users_age = Flatten()(embedding_users_age)\n",
    "    \n",
    "    layer = keras.layers.concatenate([embedding_users_id, embedding_users_gender, embedding_users_age])\n",
    "    layer = Dense(128, activation = 'relu')(layer)\n",
    "    layer = Dropout(0.1)(layer)\n",
    "    user_layer = Dense(200, activation = 'sigmoid')(layer)\n",
    "    \n",
    "    input_movies_id = Input(shape = (1,), name = 'movies_id')\n",
    "    input_movies_genres = Input(shape = (genres_len,), name = 'movies_genres')\n",
    "    input_movies_title = Input(shape = (title_len,), name = 'movies_title')\n",
    "    \n",
    "    embedding_movies_id = Embedding(movies_id_size, 32)(input_movies_id)\n",
    "    embedding_movies_id = Flatten()(embedding_movies_id)\n",
    "    embedding_movies_genres = Embedding(genres_n, 32, input_length = genres_len)(input_movies_genres)\n",
    "    embedding_movies_genres = Lambda(lambda x : K.sum(x, axis = 1, keepdims = False), output_shape=(32,))(embedding_movies_genres)\n",
    "    layer = keras.layers.concatenate([embedding_movies_id, embedding_movies_genres])\n",
    "    movies_layer = Dense(64, activation = 'relu')(layer)\n",
    "    movies_layer = Dropout(0.1)(movies_layer)\n",
    "    \n",
    "    embedding_movies_title = Embedding(title_n, 32, input_length = title_len)(input_movies_title)\n",
    "    window_sizes = {2, 3, 4, 5}\n",
    "    conv_list = []\n",
    "    for window in window_sizes:\n",
    "        movies_title_conv = Conv1D(filters = 16, kernel_size = window,\n",
    "                                 padding = 'valid',\n",
    "                                 strides = 1, kernel_initializer = 'he_normal',\n",
    "                                  kernel_regularizer = l2(1e-4))(embedding_movies_title)\n",
    "        movies_title_conv = BatchNormalization(axis = 2)(movies_title_conv)\n",
    "        movies_title_conv = Activation('relu')(movies_title_conv)\n",
    "        movies_title_conv = MaxPooling1D(pool_size = (title_len - window + 1))(movies_title_conv)\n",
    "        movies_title_conv = Flatten()(movies_title_conv)\n",
    "        conv_list.append(movies_title_conv)\n",
    "        \n",
    "    conv_layer = keras.layers.concatenate(conv_list)\n",
    "    movie_layer = keras.layers.concatenate([movies_layer, conv_layer])\n",
    "    movie_layer = Dense(200, activation = 'sigmoid')(movie_layer)\n",
    "    \n",
    "    output_layer = keras.layers.dot([user_layer, movie_layer], axes = 1)\n",
    "    \n",
    "    model = Model(inputs = [input_users_id, input_users_gender, input_users_age, \\\n",
    "                            input_movies_id,input_movies_genres, input_movies_title], output = output_layer)\n",
    "    \n",
    "    optimizer = Adam(lr = 0.0001)\n",
    "    model.compile(optimizer = optimizer, loss = 'mean_squared_error')\n",
    "    \n",
    "    return model"
   ]
  },
  {
   "cell_type": "code",
   "execution_count": 162,
   "metadata": {},
   "outputs": [
    {
     "name": "stderr",
     "output_type": "stream",
     "text": [
      "/usr/local/lib/python3.6/dist-packages/ipykernel_launcher.py:59: UserWarning: Update your `Model` call to the Keras 2 API: `Model(inputs=[<tf.Tenso..., outputs=Tensor(\"do...)`\n"
     ]
    }
   ],
   "source": [
    "model = build_model(users_id_size + 1, len(age_bins) - 1, movies_id_size + 1, \n",
    "                    len(genres_dict) + 1, X_movies_genres.shape[1], len(title_word_index) + 1, X_movies_title.shape[1])"
   ]
  },
  {
   "cell_type": "code",
   "execution_count": null,
   "metadata": {},
   "outputs": [
    {
     "name": "stdout",
     "output_type": "stream",
     "text": [
      "Train on 700146 samples, validate on 300063 samples\n",
      "Epoch 1/10\n",
      "700146/700146 [==============================] - 189s 270us/step - loss: 0.7733 - val_loss: 1.2930\n",
      "Epoch 2/10\n",
      "700146/700146 [==============================] - 189s 270us/step - loss: 0.7648 - val_loss: 1.2761\n",
      "Epoch 3/10\n",
      "700146/700146 [==============================] - 189s 271us/step - loss: 0.7568 - val_loss: 1.2595\n",
      "Epoch 4/10\n",
      "700146/700146 [==============================] - 189s 270us/step - loss: 0.7479 - val_loss: 1.3080\n",
      "Epoch 5/10\n",
      "441888/700146 [=================>............] - ETA: 1:06 - loss: 0.7384"
     ]
    }
   ],
   "source": [
    "hist = train(model, X_users_id, X_users_gender, X_users_age, X_movies_id, X_movies_genres, X_movies_title, y)"
   ]
  },
  {
   "cell_type": "code",
   "execution_count": 164,
   "metadata": {},
   "outputs": [
    {
     "data": {
      "text/plain": [
       "[<matplotlib.lines.Line2D at 0x7fe724d98240>]"
      ]
     },
     "execution_count": 164,
     "metadata": {},
     "output_type": "execute_result"
    },
    {
     "data": {
      "image/png": "[encoded data removed]",
      "text/plain": [
       "<Figure size 432x288 with 1 Axes>"
      ]
     },
     "metadata": {
      "needs_background": "light"
     },
     "output_type": "display_data"
    }
   ],
   "source": [
    "plt.plot(hist.history['loss'])\n",
    "plt.plot(hist.history['val_loss'])"
   ]
  },
  {
   "cell_type": "code",
   "execution_count": null,
   "metadata": {},
   "outputs": [],
   "source": []
  },
  {
   "cell_type": "code",
   "execution_count": null,
   "metadata": {},
   "outputs": [],
   "source": []
  },
  {
   "cell_type": "code",
   "execution_count": null,
   "metadata": {},
   "outputs": [],
   "source": []
  },
  {
   "cell_type": "code",
   "execution_count": null,
   "metadata": {},
   "outputs": [],
   "source": []
  },
  {
   "cell_type": "code",
   "execution_count": null,
   "metadata": {},
   "outputs": [],
   "source": []
  },
  {
   "cell_type": "code",
   "execution_count": null,
   "metadata": {},
   "outputs": [],
   "source": []
  },
  {
   "cell_type": "code",
   "execution_count": null,
   "metadata": {},
   "outputs": [],
   "source": []
  },
  {
   "cell_type": "code",
   "execution_count": null,
   "metadata": {},
   "outputs": [],
   "source": []
  },
  {
   "cell_type": "code",
   "execution_count": null,
   "metadata": {},
   "outputs": [],
   "source": []
  },
  {
   "cell_type": "code",
   "execution_count": null,
   "metadata": {},
   "outputs": [],
   "source": []
  },
  {
   "cell_type": "code",
   "execution_count": null,
   "metadata": {},
   "outputs": [],
   "source": []
  },
  {
   "cell_type": "code",
   "execution_count": null,
   "metadata": {},
   "outputs": [],
   "source": []
  },
  {
   "cell_type": "code",
   "execution_count": null,
   "metadata": {},
   "outputs": [],
   "source": []
  },
  {
   "cell_type": "code",
   "execution_count": null,
   "metadata": {},
   "outputs": [],
   "source": []
  },
  {
   "cell_type": "code",
   "execution_count": null,
   "metadata": {},
   "outputs": [],
   "source": []
  },
  {
   "cell_type": "code",
   "execution_count": null,
   "metadata": {},
   "outputs": [],
   "source": []
  },
  {
   "cell_type": "code",
   "execution_count": null,
   "metadata": {},
   "outputs": [],
   "source": []
  },
  {
   "cell_type": "code",
   "execution_count": null,
   "metadata": {},
   "outputs": [],
   "source": []
  },
  {
   "cell_type": "code",
   "execution_count": null,
   "metadata": {},
   "outputs": [],
   "source": []
  },
  {
   "cell_type": "code",
   "execution_count": null,
   "metadata": {},
   "outputs": [],
   "source": []
  }
 ],
 "metadata": {
  "kernelspec": {
   "display_name": "Python 3",
   "language": "python",
   "name": "python3"
  },
  "language_info": {
   "codemirror_mode": {
    "name": "ipython",
    "version": 3
   },
   "file_extension": ".py",
   "mimetype": "text/x-python",
   "name": "python",
   "nbconvert_exporter": "python",
   "pygments_lexer": "ipython3",
   "version": "3.6.8"
  }
 },
 "nbformat": 4,
 "nbformat_minor": 2
}
