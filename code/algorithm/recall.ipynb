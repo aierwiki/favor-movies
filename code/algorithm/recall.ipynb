{
 "cells": [
  {
   "cell_type": "code",
   "execution_count": 1,
   "metadata": {},
   "outputs": [
    {
     "name": "stdout",
     "output_type": "stream",
     "text": [
      "              total        used        free      shared  buff/cache   available\r\n",
      "Mem:       30870752     5619532     8134896       65760    17116324    24760500\r\n",
      "Swap:             0           0           0\r\n"
     ]
    }
   ],
   "source": [
    "!free"
   ]
  },
  {
   "cell_type": "code",
   "execution_count": 1,
   "metadata": {},
   "outputs": [],
   "source": [
    "import numpy as np\n",
    "import pandas as pd\n",
    "import os\n",
    "import matplotlib.pyplot as plt\n",
    "%matplotlib inline"
   ]
  },
  {
   "cell_type": "markdown",
   "metadata": {},
   "source": [
    "## 加载过滤后的电影和评分"
   ]
  },
  {
   "cell_type": "code",
   "execution_count": 2,
   "metadata": {},
   "outputs": [],
   "source": [
    "df_movies = pd.read_csv('/notebooks/fishmovie/data/ml-clean/movies_v2.csv', index_col=0, engine= 'python')"
   ]
  },
  {
   "cell_type": "code",
   "execution_count": 3,
   "metadata": {},
   "outputs": [],
   "source": [
    "df_ratings = pd.read_csv('/notebooks/fishmovie/data/ml-clean/ratings_v2.csv', index_col=0, engine = 'python')"
   ]
  },
  {
   "cell_type": "code",
   "execution_count": 5,
   "metadata": {},
   "outputs": [
    {
     "data": {
      "text/plain": [
       "(15171, 14)"
      ]
     },
     "execution_count": 5,
     "metadata": {},
     "output_type": "execute_result"
    }
   ],
   "source": [
    "df_movies.shape"
   ]
  },
  {
   "cell_type": "code",
   "execution_count": 6,
   "metadata": {},
   "outputs": [
    {
     "data": {
      "text/plain": [
       "(15654592, 5)"
      ]
     },
     "execution_count": 6,
     "metadata": {},
     "output_type": "execute_result"
    }
   ],
   "source": [
    "df_ratings.shape"
   ]
  },
  {
   "cell_type": "markdown",
   "metadata": {},
   "source": [
    "## 导出评论数最多的电影"
   ]
  },
  {
   "cell_type": "code",
   "execution_count": 8,
   "metadata": {},
   "outputs": [],
   "source": [
    "df_rating_count = df_ratings['movieId'].value_counts().reset_index()"
   ]
  },
  {
   "cell_type": "code",
   "execution_count": 10,
   "metadata": {},
   "outputs": [],
   "source": [
    "df_rating_count.columns = ['movieId', 'ratings_count']"
   ]
  },
  {
   "cell_type": "code",
   "execution_count": 14,
   "metadata": {},
   "outputs": [
    {
     "data": {
      "text/plain": [
       "3708"
      ]
     },
     "execution_count": 14,
     "metadata": {},
     "output_type": "execute_result"
    }
   ],
   "source": [
    "df_rating_count['ratings_count'].head(1000).min()"
   ]
  },
  {
   "cell_type": "code",
   "execution_count": 16,
   "metadata": {},
   "outputs": [],
   "source": [
    "df_hot_movies = pd.merge(df_movies, df_rating_count.head(1000), on='movieId')"
   ]
  },
  {
   "cell_type": "code",
   "execution_count": 19,
   "metadata": {},
   "outputs": [],
   "source": [
    "df_hot_movies.to_csv('/notebooks/fishmovie/data/ml-clean/hot_movies.csv')"
   ]
  },
  {
   "cell_type": "markdown",
   "metadata": {},
   "source": [
    "## 转成json数据"
   ]
  },
  {
   "cell_type": "code",
   "execution_count": 3,
   "metadata": {},
   "outputs": [],
   "source": [
    "import numpy as np\n",
    "import pandas as pd"
   ]
  },
  {
   "cell_type": "code",
   "execution_count": 4,
   "metadata": {},
   "outputs": [],
   "source": [
    "df_hot_movies = pd.read_csv('/notebooks/fishmovie/data/ml-clean/hot_movies.csv', index_col=0)"
   ]
  },
  {
   "cell_type": "code",
   "execution_count": 6,
   "metadata": {},
   "outputs": [
    {
     "data": {
      "text/plain": [
       "Index(['moviename', 'director', 'leadactors', 'screenwriter', 'picture',\n",
       "       'averating', 'numrating', 'description', 'typelist', 'backpost',\n",
       "       'movieId', 'title', 'genres', 'showyear', 'ratings_count'],\n",
       "      dtype='object')"
      ]
     },
     "execution_count": 6,
     "metadata": {},
     "output_type": "execute_result"
    }
   ],
   "source": [
    "df_hot_movies.columns"
   ]
  },
  {
   "cell_type": "code",
   "execution_count": 12,
   "metadata": {},
   "outputs": [],
   "source": [
    "def get_json(row):\n",
    "    json = {}\n",
    "    json['name'] = row['moviename']\n",
    "    json['score'] = int(row['averating'] / 5.0 * 100)\n",
    "    json['picUrl'] = row['picture']\n",
    "    json['movieId'] = row['movieId']\n",
    "    json['director'] = row['director']\n",
    "    json['leadactors'] = row['leadactors']\n",
    "    json['backpost'] = row['backpost']\n",
    "    json['genres'] = row['genres']\n",
    "    return json"
   ]
  },
  {
   "cell_type": "code",
   "execution_count": 13,
   "metadata": {},
   "outputs": [],
   "source": [
    "df_hot_movies['json'] = df_hot_movies.apply(get_json, axis=1)"
   ]
  },
  {
   "cell_type": "code",
   "execution_count": 19,
   "metadata": {},
   "outputs": [
    {
     "data": {
      "text/plain": [
       "1000"
      ]
     },
     "execution_count": 19,
     "metadata": {},
     "output_type": "execute_result"
    }
   ],
   "source": [
    "df_hot_movies['movieId'].nunique()"
   ]
  },
  {
   "cell_type": "code",
   "execution_count": 15,
   "metadata": {},
   "outputs": [
    {
     "data": {
      "text/plain": [
       "[{'name': 'Toy Story',\n",
       "  'score': 78,\n",
       "  'picUrl': 'http://image.tmdb.org/t/p/w185/rhIRbceoE9lR4veEXuwCC2wARtG.jpg',\n",
       "  'movieId': 1,\n",
       "  'director': 'John Lasseter',\n",
       "  'leadactors': 'Tom Hanks,Tim Allen,Don Rickles,Jim Varney,Wallace Shawn,John Ratzenberger,Annie Potts,John Morris,Erik von Detten,Laurie Metcalf,R. Lee Ermey,Sarah Freeman,Penn Jillette,Sherry Lynn',\n",
       "  'backpost': 'http://image.tmdb.org/t/p/w780/dji4Fm0gCDVb9DQQMRvAI8YNnTz.jpg',\n",
       "  'genres': 'Adventure|Animation|Children|Comedy|Fantasy'},\n",
       " {'name': 'Jumanji',\n",
       "  'score': 64,\n",
       "  'picUrl': 'http://image.tmdb.org/t/p/w185/8wBKXZNod4frLZjAKSDuAcQ2dEU.jpg',\n",
       "  'movieId': 2,\n",
       "  'director': 'Joe Johnston',\n",
       "  'leadactors': 'Robin Williams,Jonathan Hyde,Kirsten Dunst,Bradley Pierce,Bonnie Hunt,Bebe Neuwirth,David Alan Grier,Patricia Clarkson,Adam Hann-Byrd,Laura Bell Bundy,James Handy,Gillian Barber,Brandon Obray,Cyrus Thiedeke,Gary Joseph Thorup,Leonard Zola,Lloyd Berry,Malcolm Stewart,Annabel Kershaw,Darryl Henriques,Robyn Driscoll,Peter Bryant,Sarah Gilson,Florica Vlad,June Lion,Brenda Lockmuller,Frederick Richardson,Frank Welker,Jaysen Clough,Daniel Olsen,Falko Schilling,David Szehi,Tom Woodruff Jr.',\n",
       "  'backpost': 'http://image.tmdb.org/t/p/w780/7k4zEgUZbzMHawDaMc9yIkmY1qR.jpg',\n",
       "  'genres': 'Adventure|Children|Fantasy'},\n",
       " {'name': 'Grumpier Old Men',\n",
       "  'score': 64,\n",
       "  'picUrl': 'http://image.tmdb.org/t/p/w185/6ksm1sjKMFLbO7UY2i6G1ju9SML.jpg',\n",
       "  'movieId': 3,\n",
       "  'director': 'Howard Deutch',\n",
       "  'leadactors': 'Walter Matthau,Jack Lemmon,Ann-Margret,Sophia Loren,Daryl Hannah,Burgess Meredith,Kevin Pollak',\n",
       "  'backpost': 'http://image.tmdb.org/t/p/w780/1ENbkuIYK2taNGGKNMs2hw6SaJb.jpg',\n",
       "  'genres': 'Comedy|Romance'},\n",
       " {'name': 'Father of the Bride Part II',\n",
       "  'score': 62,\n",
       "  'picUrl': 'http://image.tmdb.org/t/p/w185/e64sOI48hQXyru7naBFyssKFxVd.jpg',\n",
       "  'movieId': 5,\n",
       "  'director': 'Charles Shyer',\n",
       "  'leadactors': 'Steve Martin,Diane Keaton,Martin Short,Kimberly Williams-Paisley,George Newbern,Kieran Culkin,BD Wong,Peter Michael Goetz,Kate McGregor-Stewart,Jane Adams,Eugene Levy,Lori Alan',\n",
       "  'backpost': 'http://image.tmdb.org/t/p/w780/cZs50rEk4T13qWedon0uCnbYQzW.jpg',\n",
       "  'genres': 'Comedy'},\n",
       " {'name': 'Heat',\n",
       "  'score': 76,\n",
       "  'picUrl': 'http://image.tmdb.org/t/p/w185/zMyfPUelumio3tiDKPffaUpsQTD.jpg',\n",
       "  'movieId': 6,\n",
       "  'director': 'Michael Mann',\n",
       "  'leadactors': \"Al Pacino,Robert De Niro,Val Kilmer,Jon Voight,Tom Sizemore,Diane Venora,Amy Brenneman,Ashley Judd,Mykelti Williamson,Natalie Portman,Ted Levine,Tom Noonan,Tone Loc,Hank Azaria,Wes Studi,Dennis Haysbert,Danny Trejo,Henry Rollins,William Fichtner,Kevin Gage,Susan Traylor,Jerry Trimble,Ricky Harris,Jeremy Piven,Xander Berkeley,Begonya Plaza,Rick Avery,Hazelle Goodman,Ray Buktenica,Max Daniels,Vince Deadrick Jr.,Steven Ford,Farrah Forke,Patricia Healy,Paul Herman,Cindy Katz,Brian Libby,Dan Martin,Mario Roberts,Thomas Rosales, Jr.,Yvonne Zima,Mick Gould,Bud Cort,Viviane Vives,Kim Staunton,Martin Ferrero,Brad Baldridge,Andrew Camuccio,Kenny Endoso,Kimberly Flynn,Niki Harris,Bill McIntosh,Rick Marzan,Terry Miller,Daniel O'Haco,Kai Soremekun,Peter Blackwell,Trevor Coppola,Mary Kircher,Darin Mangan,Robert Miranda,Manny Perry,Iva Franks Singer,Tim Werner,Philip Ettington\",\n",
       "  'backpost': 'http://image.tmdb.org/t/p/w780/jMzVSwQp1lLVq9fnQQ4yOjr1YZ2.jpg',\n",
       "  'genres': 'Action|Crime|Thriller'}]"
      ]
     },
     "execution_count": 15,
     "metadata": {},
     "output_type": "execute_result"
    }
   ],
   "source": [
    "df_hot_movies['json'].head().values.tolist()"
   ]
  },
  {
   "cell_type": "code",
   "execution_count": null,
   "metadata": {},
   "outputs": [],
   "source": []
  }
 ],
 "metadata": {
  "kernelspec": {
   "display_name": "Python 3",
   "language": "python",
   "name": "python3"
  },
  "language_info": {
   "codemirror_mode": {
    "name": "ipython",
    "version": 3
   },
   "file_extension": ".py",
   "mimetype": "text/x-python",
   "name": "python",
   "nbconvert_exporter": "python",
   "pygments_lexer": "ipython3",
   "version": "3.6.8"
  }
 },
 "nbformat": 4,
 "nbformat_minor": 2
}
